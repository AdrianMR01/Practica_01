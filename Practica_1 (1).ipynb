{
 "cells": [
  {
   "cell_type": "markdown",
   "metadata": {},
   "source": [
    "# Pratica 1"
   ]
  },
  {
   "cell_type": "markdown",
   "metadata": {},
   "source": [
    "## *1 Lista*"
   ]
  },
  {
   "cell_type": "code",
   "execution_count": 1,
   "metadata": {},
   "outputs": [
    {
     "name": "stdout",
     "output_type": "stream",
     "text": [
      "['trek', 'cannondale', 'redline', 'specialized']\n"
     ]
    }
   ],
   "source": [
    "bicycles = ['trek', 'cannondale', 'redline', 'specialized']\n",
    "print(bicycles)"
   ]
  },
  {
   "cell_type": "markdown",
   "metadata": {},
   "source": [
    "*La lista se imprimio tal y como la insertamos en la linea de codigo.*"
   ]
  },
  {
   "cell_type": "markdown",
   "metadata": {},
   "source": [
    "### *1.1 Ingresando a los elementos de una lista*"
   ]
  },
  {
   "cell_type": "code",
   "execution_count": 2,
   "metadata": {},
   "outputs": [
    {
     "name": "stdout",
     "output_type": "stream",
     "text": [
      "cannondale\n"
     ]
    }
   ],
   "source": [
    "bicycles = ['trek', 'cannondale', 'redline', 'specialized'] \n",
    "print(bicycles[1])"
   ]
  },
  {
   "cell_type": "markdown",
   "metadata": {},
   "source": [
    "*Solo se imprimio el valor del espacio numero 1, teiendo en cuenta que las listas de este tipo inician desde 0.* "
   ]
  },
  {
   "cell_type": "code",
   "execution_count": 3,
   "metadata": {},
   "outputs": [
    {
     "name": "stdout",
     "output_type": "stream",
     "text": [
      "Trek\n"
     ]
    }
   ],
   "source": [
    "bicycles = ['trek', 'cannondale', 'redline', 'specialized'] \n",
    "print(bicycles[0].title()) "
   ]
  },
  {
   "cell_type": "markdown",
   "metadata": {},
   "source": [
    "### 1.2 Tarea"
   ]
  },
  {
   "cell_type": "markdown",
   "metadata": {},
   "source": [
    "* *1.2.1 Realiza una lista con algunos nombres de tus amigos en una lista llamada names. Imprime en la pantalla el nombre de cada persona ingresando elemento por elemento.*"
   ]
  },
  {
   "cell_type": "code",
   "execution_count": 4,
   "metadata": {},
   "outputs": [
    {
     "name": "stdout",
     "output_type": "stream",
     "text": [
      "Jorge\n",
      "Brandon\n",
      "Alberto\n",
      "Daniel\n",
      "Tony\n"
     ]
    }
   ],
   "source": [
    "names = ['Jorge','Brandon', 'Alberto','Daniel','Tony'] \n",
    "for put in names:\n",
    "    print (put)"
   ]
  },
  {
   "cell_type": "markdown",
   "metadata": {},
   "source": [
    "* *1.2.2 En la lista creada anteriormente, además de imprimir el nombre de cada persona imprime un mensaje personalizado para cada persona.*"
   ]
  },
  {
   "cell_type": "code",
   "execution_count": 5,
   "metadata": {},
   "outputs": [
    {
     "name": "stdout",
     "output_type": "stream",
     "text": [
      "Jorge Hola\n",
      "Brandon Que onda\n",
      "Alberto ¿Como estas?\n",
      "Daniel Cuanto tiempo\n",
      "Tony ¿Que tal va todo?\n"
     ]
    }
   ],
   "source": [
    "names = ['Jorge','Brandon', 'Alberto','Daniel','Tony'] \n",
    "print (names[0], 'Hola')\n",
    "print (names[1], 'Que onda')\n",
    "print (names[2], '¿Como estas?')\n",
    "print (names[3], 'Cuanto tiempo')\n",
    "print (names[4], '¿Que tal va todo?')"
   ]
  },
  {
   "cell_type": "markdown",
   "metadata": {},
   "source": [
    "* *1.2.3 Piensa en una lista deseos, la lista debe de tener por lo menos 15 elementos. Imprime algunos de los deseos. Ejemplo \"Me gustarıa tener una moto Honda”.*"
   ]
  },
  {
   "cell_type": "code",
   "execution_count": 6,
   "metadata": {},
   "outputs": [
    {
     "name": "stdout",
     "output_type": "stream",
     "text": [
      "Desearia tener muchos relojes\n",
      "Desearia tener un auto\n",
      "Desearia tener un viaje a Alemania\n",
      "Desearia tener el avion presidencial\n",
      "Desearia tener una reunion con mis amigos\n",
      "Desearia tener una TV\n",
      "Desearia tener una camara\n",
      "Desearia tener un viaje familiar\n"
     ]
    }
   ],
   "source": [
    "deseo = ['un auto','un Xiaomi','un viaje a Alemania',\n",
    "'el avion presidencial','una reunion con mis amigos',\n",
    "'una computadora nueva','una camara','un chef personal',\n",
    "'un viaje familiar','muchos relojes','una TV',\n",
    "'boletos para un concierto','amigos de otros paises',\n",
    "'un record mundial','una vista perfecta']\n",
    "print (\"Desearia tener\",deseo[9])\n",
    "print (\"Desearia tener\",deseo[0])\n",
    "print (\"Desearia tener\",deseo[2])\n",
    "print (\"Desearia tener\",deseo[3])\n",
    "print (\"Desearia tener\",deseo[4])\n",
    "print (\"Desearia tener\",deseo[10])\n",
    "print (\"Desearia tener\",deseo[6])\n",
    "print (\"Desearia tener\",deseo[8])\n"
   ]
  },
  {
   "cell_type": "markdown",
   "metadata": {},
   "source": [
    "## *2 Modificando, agregando y removiendo elementos de la lista.*\n"
   ]
  },
  {
   "cell_type": "markdown",
   "metadata": {},
   "source": [
    "### *2.1 Modificando los elementos de una lista.*"
   ]
  },
  {
   "cell_type": "code",
   "execution_count": 7,
   "metadata": {},
   "outputs": [
    {
     "name": "stdout",
     "output_type": "stream",
     "text": [
      "['honda', 'yamaha', 'suzuki']\n",
      "['ducati', 'yamaha', 'suzuki']\n"
     ]
    }
   ],
   "source": [
    "motorcycles = ['honda', 'yamaha', 'suzuki'] \n",
    "print(motorcycles) \n",
    "motorcycles[0] = 'ducati' \n",
    "print(motorcycles) "
   ]
  },
  {
   "cell_type": "markdown",
   "metadata": {},
   "source": [
    "### *2.2 Agregando elementos a la lista.*"
   ]
  },
  {
   "cell_type": "code",
   "execution_count": 8,
   "metadata": {},
   "outputs": [
    {
     "name": "stdout",
     "output_type": "stream",
     "text": [
      "['honda', 'yamaha', 'suzuki']\n",
      "['honda', 'yamaha', 'suzuki', 'ducati']\n"
     ]
    }
   ],
   "source": [
    "motorcycles = ['honda', 'yamaha', 'suzuki'] \n",
    "print(motorcycles) \n",
    "motorcycles.append('ducati')\n",
    "print(motorcycles)"
   ]
  },
  {
   "cell_type": "markdown",
   "metadata": {},
   "source": [
    "### *2.3 Insertando elementos a una lista.*"
   ]
  },
  {
   "cell_type": "code",
   "execution_count": 9,
   "metadata": {},
   "outputs": [
    {
     "name": "stdout",
     "output_type": "stream",
     "text": [
      "['honda', 'yamaha', 'suzuki']\n",
      "['ducati', 'honda', 'yamaha', 'suzuki']\n"
     ]
    }
   ],
   "source": [
    "motorcycles = ['honda', 'yamaha', 'suzuki'] \n",
    "print(motorcycles) \n",
    "motorcycles.insert(0, 'ducati') \n",
    "print(motorcycles)"
   ]
  },
  {
   "cell_type": "markdown",
   "metadata": {},
   "source": [
    "### *2.4 Removiendo elementos de una lista.*"
   ]
  },
  {
   "cell_type": "markdown",
   "metadata": {},
   "source": [
    "* *2.4.1 del*"
   ]
  },
  {
   "cell_type": "code",
   "execution_count": 10,
   "metadata": {},
   "outputs": [
    {
     "name": "stdout",
     "output_type": "stream",
     "text": [
      "['honda', 'yamaha', 'suzuki']\n",
      "['yamaha', 'suzuki']\n"
     ]
    }
   ],
   "source": [
    "motorcycles = ['honda', 'yamaha', 'suzuki']\n",
    "print(motorcycles) \n",
    "del motorcycles[0] \n",
    "print(motorcycles)"
   ]
  },
  {
   "cell_type": "markdown",
   "metadata": {},
   "source": [
    "* *2.4.2 pop*"
   ]
  },
  {
   "cell_type": "code",
   "execution_count": 11,
   "metadata": {},
   "outputs": [
    {
     "name": "stdout",
     "output_type": "stream",
     "text": [
      "['honda', 'yamaha', 'suzuki']\n",
      "honda\n"
     ]
    }
   ],
   "source": [
    "motorcycles = ['honda', 'yamaha', 'suzuki']\n",
    "print(motorcycles) \n",
    "lost_moto= motorcycles.pop(0)\n",
    "print(lost_moto)"
   ]
  },
  {
   "cell_type": "markdown",
   "metadata": {},
   "source": [
    "## *3 Funciones*"
   ]
  },
  {
   "cell_type": "code",
   "execution_count": 12,
   "metadata": {},
   "outputs": [
    {
     "name": "stdout",
     "output_type": "stream",
     "text": [
      "Hello!\n"
     ]
    }
   ],
   "source": [
    "def greet_user(): \n",
    "    \"\"\"Dipaly a simple greeting\"\"\" \n",
    "    print(\"Hello!\") \n",
    "\n",
    "greet_user() "
   ]
  },
  {
   "cell_type": "markdown",
   "metadata": {},
   "source": [
    "### *3.1 Transmitir información a una función*"
   ]
  },
  {
   "cell_type": "code",
   "execution_count": 13,
   "metadata": {},
   "outputs": [
    {
     "name": "stdout",
     "output_type": "stream",
     "text": [
      "Hello, Jessie!\n"
     ]
    }
   ],
   "source": [
    "def greet_user(username): \n",
    "    \"\"\"Display a simple greeting.\"\"\" \n",
    "    print(\"Hello, \" + username.title() + \"!\") \n",
    "\n",
    "greet_user('jessie') \n"
   ]
  },
  {
   "cell_type": "markdown",
   "metadata": {},
   "source": [
    "### *3.2 Paso de argumentos*"
   ]
  },
  {
   "cell_type": "markdown",
   "metadata": {},
   "source": [
    "* *3.2.1 Argumentos de posicion*"
   ]
  },
  {
   "cell_type": "code",
   "execution_count": 14,
   "metadata": {},
   "outputs": [
    {
     "name": "stdout",
     "output_type": "stream",
     "text": [
      "\n",
      "I have a hamster.\n",
      "My hamster’s name is Harry.\n",
      "\n",
      "I have a dog.\n",
      "My dog’s name is Willie.\n"
     ]
    }
   ],
   "source": [
    "def describe_pet(animal_type, pet_name): \n",
    "    \"\"\"Display information about a pet.\"\"\" \n",
    "    print(\"\\nI have a \" + animal_type + \".\") \n",
    "    print(\"My \" + animal_type + \"’s name is \" + pet_name.title() + \".\") \n",
    "describe_pet('hamster', 'harry') \n",
    "describe_pet('dog', 'willie')"
   ]
  },
  {
   "cell_type": "code",
   "execution_count": 15,
   "metadata": {},
   "outputs": [
    {
     "name": "stdout",
     "output_type": "stream",
     "text": [
      "\n",
      "I have a harry.\n",
      "My harry’s name is Hamster.\n"
     ]
    }
   ],
   "source": [
    "def describe_pet(animal_type, pet_name): \n",
    "    \"\"\"Display information about a pet.\"\"\" \n",
    "    print(\"\\nI have a \" + animal_type + \".\")\n",
    "    print(\"My \" + animal_type + \"’s name is \" + pet_name.title() + \".\") \n",
    "describe_pet('harry', 'hamster')"
   ]
  },
  {
   "cell_type": "markdown",
   "metadata": {},
   "source": [
    "* *3.2.2 Argumentos de palabras clave*"
   ]
  },
  {
   "cell_type": "code",
   "execution_count": 16,
   "metadata": {},
   "outputs": [
    {
     "name": "stdout",
     "output_type": "stream",
     "text": [
      "\n",
      "I have a hamster.\n",
      "My hamster’s name is Harry.\n"
     ]
    }
   ],
   "source": [
    "def describe_pet(animal_type, pet_name): \n",
    "    \"\"\"Display information about a pet.\"\"\" \n",
    "    print(\"\\nI have a \" + animal_type + \".\") \n",
    "    print(\"My \" + animal_type + \"’s name is \" + pet_name.title() + \".\") \n",
    "describe_pet(animal_type='hamster', pet_name='harry')"
   ]
  },
  {
   "cell_type": "markdown",
   "metadata": {},
   "source": [
    "### *3.3 Valores predeterminados*\n"
   ]
  },
  {
   "cell_type": "code",
   "execution_count": 17,
   "metadata": {},
   "outputs": [
    {
     "name": "stdout",
     "output_type": "stream",
     "text": [
      "\n",
      "I have a dog.\n",
      "My dog’s name is Willie.\n"
     ]
    }
   ],
   "source": [
    "def describe_pet(pet_name, animal_type='dog'): \n",
    "    \"\"\"Display information about a pet.\"\"\" \n",
    "    print(\"\\nI have a \" + animal_type + \".\") \n",
    "    print(\"My \" + animal_type + \"’s name is \" + pet_name.title() + \".\") \n",
    "\n",
    "describe_pet(pet_name='willie')"
   ]
  },
  {
   "cell_type": "markdown",
   "metadata": {},
   "source": [
    "### *3.4 Tarea*"
   ]
  },
  {
   "cell_type": "code",
   "execution_count": 18,
   "metadata": {},
   "outputs": [
    {
     "name": "stdout",
     "output_type": "stream",
     "text": [
      "What size shirts do you have?\n",
      "Large\n",
      "What message does the shirt have?\n",
      "i <3 IPN\n"
     ]
    }
   ],
   "source": [
    "def make_shirt(size, massage):\n",
    "    print('What size shirts do you have?' + '\\n' + size + '\\n' + \n",
    "'What message does the shirt have?' + '\\n' +massage )\n",
    "\n",
    "make_shirt('Large','i <3 IPN')"
   ]
  },
  {
   "cell_type": "code",
   "execution_count": 19,
   "metadata": {},
   "outputs": [
    {
     "name": "stdout",
     "output_type": "stream",
     "text": [
      "What size shirts do you have?\n",
      "Large\n",
      "What message does the shirt have?\n",
      "i <3 Python\n",
      "What size shirts do you have?\n",
      "Median\n",
      "What message does the shirt have?\n",
      "i <3 Python\n",
      "What size shirts do you have?\n",
      "Small\n",
      "What message does the shirt have?\n",
      "ESIME\n"
     ]
    }
   ],
   "source": [
    "def make_shirt(size= 'Large', massage= 'i <3 Python'):\n",
    "    print('What size shirts do you have?' + '\\n' + size + '\\n' + \n",
    "'What message does the shirt have?' + '\\n' +massage )\n",
    "\n",
    "make_shirt()\n",
    "make_shirt('Median')\n",
    "make_shirt('Small','ESIME')"
   ]
  },
  {
   "cell_type": "code",
   "execution_count": 20,
   "metadata": {},
   "outputs": [
    {
     "name": "stdout",
     "output_type": "stream",
     "text": [
      "Paris it's in Francia\n",
      "CDMX it's in México\n",
      "Tokio it's in Japon\n"
     ]
    }
   ],
   "source": [
    "def describe_city(city='Paris', country='Francia'):\n",
    "    print (city +\" it's in \" + country)\n",
    "\n",
    "describe_city()\n",
    "describe_city('CDMX','México')\n",
    "describe_city('Tokio','Japon')"
   ]
  },
  {
   "cell_type": "markdown",
   "metadata": {},
   "source": [
    "## *4. Clases*"
   ]
  },
  {
   "cell_type": "code",
   "execution_count": 21,
   "metadata": {},
   "outputs": [],
   "source": [
    "class Dog(): \n",
    "    \"\"\"Clase que ayuda a describir un perro\"\"\" \n",
    "    def __init__(self, name, age): \n",
    "        \"\"\"Inicializa los atributos name y age\"\"\" \n",
    "        self.name = name \n",
    "        self.age = age\n",
    "    \n",
    "    def sit(self): \n",
    "        \"\"\"Simula el comportamiento de un perro al sentarse\"\"\" \n",
    "        print(self.name.title() + \" is now sitting\")\n",
    "    \n",
    "    def roll_over(self): \n",
    "        \"\"\"Simula el comportamiento de un perro al girar\"\"\" \n",
    "        print(self.name.title() + \" ha dado una vuelta\")"
   ]
  },
  {
   "cell_type": "markdown",
   "metadata": {},
   "source": [
    "### *4.1 Definiendo un objeto de una clase*"
   ]
  },
  {
   "cell_type": "code",
   "execution_count": 22,
   "metadata": {},
   "outputs": [
    {
     "name": "stdout",
     "output_type": "stream",
     "text": [
      "My dog’s name is Willie.\n",
      "My dog is 6 years old.\n",
      "Willie is now sitting\n",
      "Willie ha dado una vuelta\n"
     ]
    }
   ],
   "source": [
    "my_dog = Dog('willie',6) \n",
    "print(\"My dog’s name is \" + my_dog.name.title() + \".\") \n",
    "print(\"My dog is \" + str(my_dog.age) + \" years old.\")\n",
    "my_dog.name\n",
    "my_dog.sit()\n",
    "my_dog.roll_over()"
   ]
  },
  {
   "cell_type": "markdown",
   "metadata": {},
   "source": [
    "### *4.2 Tarea*"
   ]
  },
  {
   "cell_type": "code",
   "execution_count": 64,
   "metadata": {},
   "outputs": [],
   "source": [
    "class Restaurant():\n",
    "    def __init__(self, restaurant_name, cuisine_type, open_R, close_R):\n",
    "        self.restaurant_name = restaurant_name\n",
    "        self.cuisine_type = cuisine_type\n",
    "        self.open_R = open_R\n",
    "        self.close_R = close_R\n",
    "    def describe_resaturant(self):\n",
    "        print ('Ya abrio ' + self.restaurant_name + \n",
    "' hace comida ' + self.cuisine_type)\n",
    "    def open_restaurant(self):\n",
    "        print('El restaurant ' + self.restaurant_name + \n",
    "' abre de Lunes a Domingo de ' + str(self.open_R) + 'hrs ' + 'a ' + str(self.close_R) + 'hrs')"
   ]
  },
  {
   "cell_type": "code",
   "execution_count": 65,
   "metadata": {},
   "outputs": [
    {
     "name": "stdout",
     "output_type": "stream",
     "text": [
      "El restaurante Takari\n",
      "Ya abrio Takari hace comida japonesa\n",
      "El restaurant Takari abre de Lunes a Domingo de 0hrs a 24hrs\n"
     ]
    }
   ],
   "source": [
    "The_Restaurant = Restaurant(\"Takari\",'japonesa',0,24)\n",
    "print(\"El restaurante \" + The_Restaurant.restaurant_name)\n",
    "The_Restaurant.describe_resaturant()\n",
    "The_Restaurant.open_restaurant()"
   ]
  },
  {
   "cell_type": "code",
   "execution_count": 66,
   "metadata": {},
   "outputs": [
    {
     "name": "stdout",
     "output_type": "stream",
     "text": [
      "El restaurante Los güeros\n",
      "Ya abrio Los güeros hace comida mexicana\n",
      "El restaurant Los güeros abre de Lunes a Domingo de 9hrs a 21hrs\n"
     ]
    }
   ],
   "source": [
    "First_Restaurant = Restaurant(\"Los güeros\",'mexicana',9,21)\n",
    "print(\"El restaurante \" + First_Restaurant.restaurant_name)\n",
    "First_Restaurant.describe_resaturant()\n",
    "First_Restaurant.open_restaurant()"
   ]
  },
  {
   "cell_type": "code",
   "execution_count": 69,
   "metadata": {},
   "outputs": [
    {
     "name": "stdout",
     "output_type": "stream",
     "text": [
      "El restaurante Matagalpa\n",
      "Ya abrio Matagalpa hace comida tailandesa\n",
      "El restaurant Matagalpa abre de Lunes a Domingo de 10hrs a 22hrs\n"
     ]
    }
   ],
   "source": [
    "Second_Restaurant = Restaurant(\"Matagalpa\",'tailandesa',10,22)\n",
    "print(\"El restaurante \" + Second_Restaurant.restaurant_name)\n",
    "Second_Restaurant.describe_resaturant()\n",
    "Second_Restaurant.open_restaurant()"
   ]
  },
  {
   "cell_type": "code",
   "execution_count": 70,
   "metadata": {},
   "outputs": [
    {
     "name": "stdout",
     "output_type": "stream",
     "text": [
      "El restaurante Sunay\n",
      "Ya abrio Sunay hace comida china\n",
      "El restaurant Sunay abre de Lunes a Domingo de 8hrs a 22hrs\n"
     ]
    }
   ],
   "source": [
    "Third_Restaurant = Restaurant(\"Sunay\",'china',8,22)\n",
    "print(\"El restaurante \" + Third_Restaurant.restaurant_name)\n",
    "Third_Restaurant.describe_resaturant()\n",
    "Third_Restaurant.open_restaurant()"
   ]
  },
  {
   "cell_type": "code",
   "execution_count": 76,
   "metadata": {},
   "outputs": [
    {
     "name": "stdout",
     "output_type": "stream",
     "text": [
      "Hola, Alan, bienvenido.\n",
      "None\n",
      "\n",
      "Name : Alan\n",
      "\n",
      "Last name : Guzman\n",
      "\n",
      "Postal Code: 56580\n",
      "\n",
      "Age : 18\n",
      "None\n",
      "Hola, Adrian, bienvenido.\n",
      "None\n",
      "\n",
      "Name : Adrian\n",
      "\n",
      "Last name : Martinez\n",
      "\n",
      "Postal Code: 56580\n",
      "\n",
      "Age : 20\n",
      "None\n",
      "Hola, Carlos, bienvenido.\n",
      "None\n",
      "\n",
      "Name : Carlos\n",
      "\n",
      "Last name : Mariscal\n",
      "\n",
      "Postal Code: 56580\n",
      "\n",
      "Age : 14\n",
      "None\n",
      "Hola, Brandon, bienvenido.\n",
      "None\n",
      "\n",
      "Name : Brandon\n",
      "\n",
      "Last name : Zaldivar\n",
      "\n",
      "Postal Code: 56580\n",
      "\n",
      "Age : 13\n",
      "None\n",
      "Hola, Andrea, bienvenido.\n",
      "None\n",
      "\n",
      "Name : Andrea\n",
      "\n",
      "Last name : Ordoñez\n",
      "\n",
      "Postal Code: 56580\n",
      "\n",
      "Age : 17\n",
      "None\n",
      "Hola, Brenda, bienvenido.\n",
      "None\n",
      "\n",
      "Name : Brenda\n",
      "\n",
      "Last name : Rayon\n",
      "\n",
      "Postal Code: 56580\n",
      "\n",
      "Age : 22\n",
      "None\n",
      "Hola, Abigail, bienvenido.\n",
      "None\n",
      "\n",
      "Name : Abigail\n",
      "\n",
      "Last name : Lopez\n",
      "\n",
      "Postal Code: 56580\n",
      "\n",
      "Age : 19\n",
      "None\n",
      "Hola, Jennyfer, bienvenido.\n",
      "None\n",
      "\n",
      "Name : Jennyfer\n",
      "\n",
      "Last name : Vizuet\n",
      "\n",
      "Postal Code: 56580\n",
      "\n",
      "Age : 15\n",
      "None\n",
      "Hola, Esmeralda, bienvenido.\n",
      "None\n",
      "\n",
      "Name : Esmeralda\n",
      "\n",
      "Last name : Abundes\n",
      "\n",
      "Postal Code: 56580\n",
      "\n",
      "Age : 18\n",
      "None\n",
      "Hola, Blanca, bienvenido.\n",
      "None\n",
      "\n",
      "Name : Blanca\n",
      "\n",
      "Last name : Fuentes\n",
      "\n",
      "Postal Code: 56580\n",
      "\n",
      "Age : 23\n",
      "None\n"
     ]
    }
   ],
   "source": [
    "class user():\n",
    "    def __init__(self,first_name,last_name,postal_code,age_user):\n",
    "        self.first_name=first_name\n",
    "        self.last_name=last_name\n",
    "        self.postal_code=postal_code\n",
    "        self.age_user=age_user\n",
    "        \n",
    "    def describe_user(self):\n",
    "        print('\\nName : '+self.first_name)\n",
    "        print('\\nLast name : '+self.last_name)\n",
    "        print('\\nPostal Code: '+str(self.postal_code))\n",
    "        print('\\nAge : '+str(self.age_user))\n",
    "      \n",
    "    def greet_user(self):\n",
    "        print('Hola, '+self.first_name+', bienvenido.')\n",
    "my_user= user('Alan','Guzman',56580,18)\n",
    "print(my_user.greet_user())\n",
    "print(my_user.describe_user())\n",
    "my_user= user('Adrian','Martinez',56580, 20)\n",
    "print(my_user.greet_user())\n",
    "print(my_user.describe_user())\n",
    "my_user=user('Carlos','Mariscal',56580, 14)\n",
    "print(my_user.greet_user())\n",
    "print(my_user.describe_user())\n",
    "my_user=user('Brandon','Zaldivar',56580, 13)\n",
    "print(my_user.greet_user())\n",
    "print(my_user.describe_user())\n",
    "my_user=user('Andrea','Ordoñez',56580,17)\n",
    "print(my_user.greet_user())\n",
    "print(my_user.describe_user())\n",
    "my_user=user('Brenda','Rayon',56580,22)\n",
    "print(my_user.greet_user())\n",
    "print(my_user.describe_user())\n",
    "my_user=user('Abigail','Lopez',56580,19)\n",
    "print(my_user.greet_user())\n",
    "print(my_user.describe_user())\n",
    "my_user=user('Jennyfer','Vizuet',56580, 15)\n",
    "print(my_user.greet_user())\n",
    "print(my_user.describe_user())\n",
    "my_user=user('Esmeralda','Abundes',56580, 18)\n",
    "print(my_user.greet_user())\n",
    "print(my_user.describe_user())\n",
    "my_user=user('Blanca','Fuentes',56580,23 )\n",
    "print(my_user.greet_user())\n",
    "print(my_user.describe_user())"
   ]
  },
  {
   "cell_type": "code",
   "execution_count": null,
   "metadata": {},
   "outputs": [],
   "source": []
  }
 ],
 "metadata": {
  "kernelspec": {
   "display_name": "Python 3",
   "language": "python",
   "name": "python3"
  },
  "language_info": {
   "codemirror_mode": {
    "name": "ipython",
    "version": 3
   },
   "file_extension": ".py",
   "mimetype": "text/x-python",
   "name": "python",
   "nbconvert_exporter": "python",
   "pygments_lexer": "ipython3",
   "version": "3.7.4"
  }
 },
 "nbformat": 4,
 "nbformat_minor": 2
}
